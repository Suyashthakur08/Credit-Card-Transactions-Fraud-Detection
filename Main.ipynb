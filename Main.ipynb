{
 "cells": [
  {
   "cell_type": "code",
   "execution_count": 1,
   "id": "fd677609",
   "metadata": {
    "_cell_guid": "b1076dfc-b9ad-4769-8c92-a6c4dae69d19",
    "_uuid": "8f2839f25d086af736a60e9eeb907d3b93b6e0e5",
    "execution": {
     "iopub.execute_input": "2025-03-28T05:43:51.406793Z",
     "iopub.status.busy": "2025-03-28T05:43:51.406466Z",
     "iopub.status.idle": "2025-03-28T05:43:52.219994Z",
     "shell.execute_reply": "2025-03-28T05:43:52.218744Z"
    },
    "papermill": {
     "duration": 0.823877,
     "end_time": "2025-03-28T05:43:52.221714",
     "exception": false,
     "start_time": "2025-03-28T05:43:51.397837",
     "status": "completed"
    },
    "tags": []
   },
   "outputs": [
    {
     "name": "stdout",
     "output_type": "stream",
     "text": [
      "/kaggle/input/fraud-detection/fraudTest.csv\n",
      "/kaggle/input/fraud-detection/fraudTrain.csv\n"
     ]
    }
   ],
   "source": [
    "# This Python 3 environment comes with many helpful analytics libraries installed\n",
    "# It is defined by the kaggle/python Docker image: https://github.com/kaggle/docker-python\n",
    "# For example, here's several helpful packages to load\n",
    "\n",
    "import numpy as np # linear algebra\n",
    "import pandas as pd # data processing, CSV file I/O (e.g. pd.read_csv)\n",
    "\n",
    "# Input data files are available in the read-only \"../input/\" directory\n",
    "# For example, running this (by clicking run or pressing Shift+Enter) will list all files under the input directory\n",
    "\n",
    "import os\n",
    "for dirname, _, filenames in os.walk('/kaggle/input'):\n",
    "    for filename in filenames:\n",
    "        print(os.path.join(dirname, filename))\n",
    "\n",
    "# You can write up to 20GB to the current directory (/kaggle/working/) that gets preserved as output when you create a version using \"Save & Run All\" \n",
    "# You can also write temporary files to /kaggle/temp/, but they won't be saved outside of the current session"
   ]
  },
  {
   "cell_type": "code",
   "execution_count": 2,
   "id": "06f3bcf5",
   "metadata": {
    "execution": {
     "iopub.execute_input": "2025-03-28T05:43:52.236720Z",
     "iopub.status.busy": "2025-03-28T05:43:52.236301Z",
     "iopub.status.idle": "2025-03-28T05:43:53.687788Z",
     "shell.execute_reply": "2025-03-28T05:43:53.687016Z"
    },
    "papermill": {
     "duration": 1.460741,
     "end_time": "2025-03-28T05:43:53.689557",
     "exception": false,
     "start_time": "2025-03-28T05:43:52.228816",
     "status": "completed"
    },
    "tags": []
   },
   "outputs": [],
   "source": [
    "#Loding important libraries\n",
    "import matplotlib.pyplot as plt\n",
    "import seaborn as sns\n",
    "%matplotlib inline"
   ]
  },
  {
   "cell_type": "markdown",
   "id": "1619b3cd",
   "metadata": {
    "papermill": {
     "duration": 0.006599,
     "end_time": "2025-03-28T05:43:53.703196",
     "exception": false,
     "start_time": "2025-03-28T05:43:53.696597",
     "status": "completed"
    },
    "tags": []
   },
   "source": [
    "# **Data Loading**"
   ]
  },
  {
   "cell_type": "code",
   "execution_count": 3,
   "id": "f31ec241",
   "metadata": {
    "execution": {
     "iopub.execute_input": "2025-03-28T05:43:53.717095Z",
     "iopub.status.busy": "2025-03-28T05:43:53.716668Z",
     "iopub.status.idle": "2025-03-28T05:44:10.206304Z",
     "shell.execute_reply": "2025-03-28T05:44:10.205250Z"
    },
    "papermill": {
     "duration": 16.498369,
     "end_time": "2025-03-28T05:44:10.207947",
     "exception": false,
     "start_time": "2025-03-28T05:43:53.709578",
     "status": "completed"
    },
    "tags": []
   },
   "outputs": [
    {
     "name": "stdout",
     "output_type": "stream",
     "text": [
      "Train Data Shape: (1296675, 23)\n",
      "Test Data Shape: (555719, 23)\n"
     ]
    },
    {
     "data": {
      "text/html": [
       "<div>\n",
       "<style scoped>\n",
       "    .dataframe tbody tr th:only-of-type {\n",
       "        vertical-align: middle;\n",
       "    }\n",
       "\n",
       "    .dataframe tbody tr th {\n",
       "        vertical-align: top;\n",
       "    }\n",
       "\n",
       "    .dataframe thead th {\n",
       "        text-align: right;\n",
       "    }\n",
       "</style>\n",
       "<table border=\"1\" class=\"dataframe\">\n",
       "  <thead>\n",
       "    <tr style=\"text-align: right;\">\n",
       "      <th></th>\n",
       "      <th>Unnamed: 0</th>\n",
       "      <th>trans_date_trans_time</th>\n",
       "      <th>cc_num</th>\n",
       "      <th>merchant</th>\n",
       "      <th>category</th>\n",
       "      <th>amt</th>\n",
       "      <th>first</th>\n",
       "      <th>last</th>\n",
       "      <th>gender</th>\n",
       "      <th>street</th>\n",
       "      <th>...</th>\n",
       "      <th>lat</th>\n",
       "      <th>long</th>\n",
       "      <th>city_pop</th>\n",
       "      <th>job</th>\n",
       "      <th>dob</th>\n",
       "      <th>trans_num</th>\n",
       "      <th>unix_time</th>\n",
       "      <th>merch_lat</th>\n",
       "      <th>merch_long</th>\n",
       "      <th>is_fraud</th>\n",
       "    </tr>\n",
       "  </thead>\n",
       "  <tbody>\n",
       "    <tr>\n",
       "      <th>0</th>\n",
       "      <td>0</td>\n",
       "      <td>2019-01-01 00:00:18</td>\n",
       "      <td>2703186189652095</td>\n",
       "      <td>fraud_Rippin, Kub and Mann</td>\n",
       "      <td>misc_net</td>\n",
       "      <td>4.97</td>\n",
       "      <td>Jennifer</td>\n",
       "      <td>Banks</td>\n",
       "      <td>F</td>\n",
       "      <td>561 Perry Cove</td>\n",
       "      <td>...</td>\n",
       "      <td>36.0788</td>\n",
       "      <td>-81.1781</td>\n",
       "      <td>3495</td>\n",
       "      <td>Psychologist, counselling</td>\n",
       "      <td>1988-03-09</td>\n",
       "      <td>0b242abb623afc578575680df30655b9</td>\n",
       "      <td>1325376018</td>\n",
       "      <td>36.011293</td>\n",
       "      <td>-82.048315</td>\n",
       "      <td>0</td>\n",
       "    </tr>\n",
       "    <tr>\n",
       "      <th>1</th>\n",
       "      <td>1</td>\n",
       "      <td>2019-01-01 00:00:44</td>\n",
       "      <td>630423337322</td>\n",
       "      <td>fraud_Heller, Gutmann and Zieme</td>\n",
       "      <td>grocery_pos</td>\n",
       "      <td>107.23</td>\n",
       "      <td>Stephanie</td>\n",
       "      <td>Gill</td>\n",
       "      <td>F</td>\n",
       "      <td>43039 Riley Greens Suite 393</td>\n",
       "      <td>...</td>\n",
       "      <td>48.8878</td>\n",
       "      <td>-118.2105</td>\n",
       "      <td>149</td>\n",
       "      <td>Special educational needs teacher</td>\n",
       "      <td>1978-06-21</td>\n",
       "      <td>1f76529f8574734946361c461b024d99</td>\n",
       "      <td>1325376044</td>\n",
       "      <td>49.159047</td>\n",
       "      <td>-118.186462</td>\n",
       "      <td>0</td>\n",
       "    </tr>\n",
       "    <tr>\n",
       "      <th>2</th>\n",
       "      <td>2</td>\n",
       "      <td>2019-01-01 00:00:51</td>\n",
       "      <td>38859492057661</td>\n",
       "      <td>fraud_Lind-Buckridge</td>\n",
       "      <td>entertainment</td>\n",
       "      <td>220.11</td>\n",
       "      <td>Edward</td>\n",
       "      <td>Sanchez</td>\n",
       "      <td>M</td>\n",
       "      <td>594 White Dale Suite 530</td>\n",
       "      <td>...</td>\n",
       "      <td>42.1808</td>\n",
       "      <td>-112.2620</td>\n",
       "      <td>4154</td>\n",
       "      <td>Nature conservation officer</td>\n",
       "      <td>1962-01-19</td>\n",
       "      <td>a1a22d70485983eac12b5b88dad1cf95</td>\n",
       "      <td>1325376051</td>\n",
       "      <td>43.150704</td>\n",
       "      <td>-112.154481</td>\n",
       "      <td>0</td>\n",
       "    </tr>\n",
       "    <tr>\n",
       "      <th>3</th>\n",
       "      <td>3</td>\n",
       "      <td>2019-01-01 00:01:16</td>\n",
       "      <td>3534093764340240</td>\n",
       "      <td>fraud_Kutch, Hermiston and Farrell</td>\n",
       "      <td>gas_transport</td>\n",
       "      <td>45.00</td>\n",
       "      <td>Jeremy</td>\n",
       "      <td>White</td>\n",
       "      <td>M</td>\n",
       "      <td>9443 Cynthia Court Apt. 038</td>\n",
       "      <td>...</td>\n",
       "      <td>46.2306</td>\n",
       "      <td>-112.1138</td>\n",
       "      <td>1939</td>\n",
       "      <td>Patent attorney</td>\n",
       "      <td>1967-01-12</td>\n",
       "      <td>6b849c168bdad6f867558c3793159a81</td>\n",
       "      <td>1325376076</td>\n",
       "      <td>47.034331</td>\n",
       "      <td>-112.561071</td>\n",
       "      <td>0</td>\n",
       "    </tr>\n",
       "    <tr>\n",
       "      <th>4</th>\n",
       "      <td>4</td>\n",
       "      <td>2019-01-01 00:03:06</td>\n",
       "      <td>375534208663984</td>\n",
       "      <td>fraud_Keeling-Crist</td>\n",
       "      <td>misc_pos</td>\n",
       "      <td>41.96</td>\n",
       "      <td>Tyler</td>\n",
       "      <td>Garcia</td>\n",
       "      <td>M</td>\n",
       "      <td>408 Bradley Rest</td>\n",
       "      <td>...</td>\n",
       "      <td>38.4207</td>\n",
       "      <td>-79.4629</td>\n",
       "      <td>99</td>\n",
       "      <td>Dance movement psychotherapist</td>\n",
       "      <td>1986-03-28</td>\n",
       "      <td>a41d7549acf90789359a9aa5346dcb46</td>\n",
       "      <td>1325376186</td>\n",
       "      <td>38.674999</td>\n",
       "      <td>-78.632459</td>\n",
       "      <td>0</td>\n",
       "    </tr>\n",
       "  </tbody>\n",
       "</table>\n",
       "<p>5 rows × 23 columns</p>\n",
       "</div>"
      ],
      "text/plain": [
       "   Unnamed: 0 trans_date_trans_time            cc_num  \\\n",
       "0           0   2019-01-01 00:00:18  2703186189652095   \n",
       "1           1   2019-01-01 00:00:44      630423337322   \n",
       "2           2   2019-01-01 00:00:51    38859492057661   \n",
       "3           3   2019-01-01 00:01:16  3534093764340240   \n",
       "4           4   2019-01-01 00:03:06   375534208663984   \n",
       "\n",
       "                             merchant       category     amt      first  \\\n",
       "0          fraud_Rippin, Kub and Mann       misc_net    4.97   Jennifer   \n",
       "1     fraud_Heller, Gutmann and Zieme    grocery_pos  107.23  Stephanie   \n",
       "2                fraud_Lind-Buckridge  entertainment  220.11     Edward   \n",
       "3  fraud_Kutch, Hermiston and Farrell  gas_transport   45.00     Jeremy   \n",
       "4                 fraud_Keeling-Crist       misc_pos   41.96      Tyler   \n",
       "\n",
       "      last gender                        street  ...      lat      long  \\\n",
       "0    Banks      F                561 Perry Cove  ...  36.0788  -81.1781   \n",
       "1     Gill      F  43039 Riley Greens Suite 393  ...  48.8878 -118.2105   \n",
       "2  Sanchez      M      594 White Dale Suite 530  ...  42.1808 -112.2620   \n",
       "3    White      M   9443 Cynthia Court Apt. 038  ...  46.2306 -112.1138   \n",
       "4   Garcia      M              408 Bradley Rest  ...  38.4207  -79.4629   \n",
       "\n",
       "   city_pop                                job         dob  \\\n",
       "0      3495          Psychologist, counselling  1988-03-09   \n",
       "1       149  Special educational needs teacher  1978-06-21   \n",
       "2      4154        Nature conservation officer  1962-01-19   \n",
       "3      1939                    Patent attorney  1967-01-12   \n",
       "4        99     Dance movement psychotherapist  1986-03-28   \n",
       "\n",
       "                          trans_num   unix_time  merch_lat  merch_long  \\\n",
       "0  0b242abb623afc578575680df30655b9  1325376018  36.011293  -82.048315   \n",
       "1  1f76529f8574734946361c461b024d99  1325376044  49.159047 -118.186462   \n",
       "2  a1a22d70485983eac12b5b88dad1cf95  1325376051  43.150704 -112.154481   \n",
       "3  6b849c168bdad6f867558c3793159a81  1325376076  47.034331 -112.561071   \n",
       "4  a41d7549acf90789359a9aa5346dcb46  1325376186  38.674999  -78.632459   \n",
       "\n",
       "   is_fraud  \n",
       "0         0  \n",
       "1         0  \n",
       "2         0  \n",
       "3         0  \n",
       "4         0  \n",
       "\n",
       "[5 rows x 23 columns]"
      ]
     },
     "execution_count": 3,
     "metadata": {},
     "output_type": "execute_result"
    }
   ],
   "source": [
    "# Load the training and testing datasets\n",
    "train_df = pd.read_csv('/kaggle/input/fraud-detection/fraudTrain.csv') #Training data\n",
    "test_df = pd.read_csv('/kaggle/input/fraud-detection/fraudTest.csv') #Testing data\n",
    "\n",
    "# Display basic info about the datasets\n",
    "print(\"Train Data Shape:\", train_df.shape)\n",
    "print(\"Test Data Shape:\", test_df.shape)\n",
    "\n",
    "# Show the first few rows of the training data\n",
    "train_df.head()"
   ]
  },
  {
   "cell_type": "code",
   "execution_count": 4,
   "id": "0b5dac9f",
   "metadata": {
    "execution": {
     "iopub.execute_input": "2025-03-28T05:44:10.224515Z",
     "iopub.status.busy": "2025-03-28T05:44:10.224202Z",
     "iopub.status.idle": "2025-03-28T05:44:13.051762Z",
     "shell.execute_reply": "2025-03-28T05:44:13.050827Z"
    },
    "papermill": {
     "duration": 2.837476,
     "end_time": "2025-03-28T05:44:13.053560",
     "exception": false,
     "start_time": "2025-03-28T05:44:10.216084",
     "status": "completed"
    },
    "tags": []
   },
   "outputs": [
    {
     "name": "stdout",
     "output_type": "stream",
     "text": [
      "Missing values in each column:\n",
      " Series([], dtype: int64)\n",
      "\n",
      "Number of duplicate rows: 0\n"
     ]
    }
   ],
   "source": [
    "# Check for missing values\n",
    "missing_values = train_df.isnull().sum()\n",
    "print(\"Missing values in each column:\\n\", missing_values[missing_values > 0])\n",
    "\n",
    "# Check for duplicate transactions\n",
    "duplicate_rows = train_df.duplicated().sum()\n",
    "print(\"\\nNumber of duplicate rows:\", duplicate_rows)"
   ]
  },
  {
   "cell_type": "markdown",
   "id": "6211f823",
   "metadata": {
    "papermill": {
     "duration": 0.007321,
     "end_time": "2025-03-28T05:44:13.068789",
     "exception": false,
     "start_time": "2025-03-28T05:44:13.061468",
     "status": "completed"
    },
    "tags": []
   },
   "source": [
    "# Data Exploration and Visualisation"
   ]
  },
  {
   "cell_type": "code",
   "execution_count": 5,
   "id": "78acc8bb",
   "metadata": {
    "execution": {
     "iopub.execute_input": "2025-03-28T05:44:13.084272Z",
     "iopub.status.busy": "2025-03-28T05:44:13.083925Z",
     "iopub.status.idle": "2025-03-28T05:44:13.596786Z",
     "shell.execute_reply": "2025-03-28T05:44:13.595701Z"
    },
    "papermill": {
     "duration": 0.522571,
     "end_time": "2025-03-28T05:44:13.598519",
     "exception": false,
     "start_time": "2025-03-28T05:44:13.075948",
     "status": "completed"
    },
    "tags": []
   },
   "outputs": [
    {
     "data": {
      "text/html": [
       "<div>\n",
       "<style scoped>\n",
       "    .dataframe tbody tr th:only-of-type {\n",
       "        vertical-align: middle;\n",
       "    }\n",
       "\n",
       "    .dataframe tbody tr th {\n",
       "        vertical-align: top;\n",
       "    }\n",
       "\n",
       "    .dataframe thead th {\n",
       "        text-align: right;\n",
       "    }\n",
       "</style>\n",
       "<table border=\"1\" class=\"dataframe\">\n",
       "  <thead>\n",
       "    <tr style=\"text-align: right;\">\n",
       "      <th></th>\n",
       "      <th>Unnamed: 0</th>\n",
       "      <th>cc_num</th>\n",
       "      <th>amt</th>\n",
       "      <th>zip</th>\n",
       "      <th>lat</th>\n",
       "      <th>long</th>\n",
       "      <th>city_pop</th>\n",
       "      <th>unix_time</th>\n",
       "      <th>merch_lat</th>\n",
       "      <th>merch_long</th>\n",
       "      <th>is_fraud</th>\n",
       "    </tr>\n",
       "  </thead>\n",
       "  <tbody>\n",
       "    <tr>\n",
       "      <th>count</th>\n",
       "      <td>1.296675e+06</td>\n",
       "      <td>1.296675e+06</td>\n",
       "      <td>1.296675e+06</td>\n",
       "      <td>1.296675e+06</td>\n",
       "      <td>1.296675e+06</td>\n",
       "      <td>1.296675e+06</td>\n",
       "      <td>1.296675e+06</td>\n",
       "      <td>1.296675e+06</td>\n",
       "      <td>1.296675e+06</td>\n",
       "      <td>1.296675e+06</td>\n",
       "      <td>1.296675e+06</td>\n",
       "    </tr>\n",
       "    <tr>\n",
       "      <th>mean</th>\n",
       "      <td>6.483370e+05</td>\n",
       "      <td>4.171920e+17</td>\n",
       "      <td>7.035104e+01</td>\n",
       "      <td>4.880067e+04</td>\n",
       "      <td>3.853762e+01</td>\n",
       "      <td>-9.022634e+01</td>\n",
       "      <td>8.882444e+04</td>\n",
       "      <td>1.349244e+09</td>\n",
       "      <td>3.853734e+01</td>\n",
       "      <td>-9.022646e+01</td>\n",
       "      <td>5.788652e-03</td>\n",
       "    </tr>\n",
       "    <tr>\n",
       "      <th>std</th>\n",
       "      <td>3.743180e+05</td>\n",
       "      <td>1.308806e+18</td>\n",
       "      <td>1.603160e+02</td>\n",
       "      <td>2.689322e+04</td>\n",
       "      <td>5.075808e+00</td>\n",
       "      <td>1.375908e+01</td>\n",
       "      <td>3.019564e+05</td>\n",
       "      <td>1.284128e+07</td>\n",
       "      <td>5.109788e+00</td>\n",
       "      <td>1.377109e+01</td>\n",
       "      <td>7.586269e-02</td>\n",
       "    </tr>\n",
       "    <tr>\n",
       "      <th>min</th>\n",
       "      <td>0.000000e+00</td>\n",
       "      <td>6.041621e+10</td>\n",
       "      <td>1.000000e+00</td>\n",
       "      <td>1.257000e+03</td>\n",
       "      <td>2.002710e+01</td>\n",
       "      <td>-1.656723e+02</td>\n",
       "      <td>2.300000e+01</td>\n",
       "      <td>1.325376e+09</td>\n",
       "      <td>1.902779e+01</td>\n",
       "      <td>-1.666712e+02</td>\n",
       "      <td>0.000000e+00</td>\n",
       "    </tr>\n",
       "    <tr>\n",
       "      <th>25%</th>\n",
       "      <td>3.241685e+05</td>\n",
       "      <td>1.800429e+14</td>\n",
       "      <td>9.650000e+00</td>\n",
       "      <td>2.623700e+04</td>\n",
       "      <td>3.462050e+01</td>\n",
       "      <td>-9.679800e+01</td>\n",
       "      <td>7.430000e+02</td>\n",
       "      <td>1.338751e+09</td>\n",
       "      <td>3.473357e+01</td>\n",
       "      <td>-9.689728e+01</td>\n",
       "      <td>0.000000e+00</td>\n",
       "    </tr>\n",
       "    <tr>\n",
       "      <th>50%</th>\n",
       "      <td>6.483370e+05</td>\n",
       "      <td>3.521417e+15</td>\n",
       "      <td>4.752000e+01</td>\n",
       "      <td>4.817400e+04</td>\n",
       "      <td>3.935430e+01</td>\n",
       "      <td>-8.747690e+01</td>\n",
       "      <td>2.456000e+03</td>\n",
       "      <td>1.349250e+09</td>\n",
       "      <td>3.936568e+01</td>\n",
       "      <td>-8.743839e+01</td>\n",
       "      <td>0.000000e+00</td>\n",
       "    </tr>\n",
       "    <tr>\n",
       "      <th>75%</th>\n",
       "      <td>9.725055e+05</td>\n",
       "      <td>4.642255e+15</td>\n",
       "      <td>8.314000e+01</td>\n",
       "      <td>7.204200e+04</td>\n",
       "      <td>4.194040e+01</td>\n",
       "      <td>-8.015800e+01</td>\n",
       "      <td>2.032800e+04</td>\n",
       "      <td>1.359385e+09</td>\n",
       "      <td>4.195716e+01</td>\n",
       "      <td>-8.023680e+01</td>\n",
       "      <td>0.000000e+00</td>\n",
       "    </tr>\n",
       "    <tr>\n",
       "      <th>max</th>\n",
       "      <td>1.296674e+06</td>\n",
       "      <td>4.992346e+18</td>\n",
       "      <td>2.894890e+04</td>\n",
       "      <td>9.978300e+04</td>\n",
       "      <td>6.669330e+01</td>\n",
       "      <td>-6.795030e+01</td>\n",
       "      <td>2.906700e+06</td>\n",
       "      <td>1.371817e+09</td>\n",
       "      <td>6.751027e+01</td>\n",
       "      <td>-6.695090e+01</td>\n",
       "      <td>1.000000e+00</td>\n",
       "    </tr>\n",
       "  </tbody>\n",
       "</table>\n",
       "</div>"
      ],
      "text/plain": [
       "         Unnamed: 0        cc_num           amt           zip           lat  \\\n",
       "count  1.296675e+06  1.296675e+06  1.296675e+06  1.296675e+06  1.296675e+06   \n",
       "mean   6.483370e+05  4.171920e+17  7.035104e+01  4.880067e+04  3.853762e+01   \n",
       "std    3.743180e+05  1.308806e+18  1.603160e+02  2.689322e+04  5.075808e+00   \n",
       "min    0.000000e+00  6.041621e+10  1.000000e+00  1.257000e+03  2.002710e+01   \n",
       "25%    3.241685e+05  1.800429e+14  9.650000e+00  2.623700e+04  3.462050e+01   \n",
       "50%    6.483370e+05  3.521417e+15  4.752000e+01  4.817400e+04  3.935430e+01   \n",
       "75%    9.725055e+05  4.642255e+15  8.314000e+01  7.204200e+04  4.194040e+01   \n",
       "max    1.296674e+06  4.992346e+18  2.894890e+04  9.978300e+04  6.669330e+01   \n",
       "\n",
       "               long      city_pop     unix_time     merch_lat    merch_long  \\\n",
       "count  1.296675e+06  1.296675e+06  1.296675e+06  1.296675e+06  1.296675e+06   \n",
       "mean  -9.022634e+01  8.882444e+04  1.349244e+09  3.853734e+01 -9.022646e+01   \n",
       "std    1.375908e+01  3.019564e+05  1.284128e+07  5.109788e+00  1.377109e+01   \n",
       "min   -1.656723e+02  2.300000e+01  1.325376e+09  1.902779e+01 -1.666712e+02   \n",
       "25%   -9.679800e+01  7.430000e+02  1.338751e+09  3.473357e+01 -9.689728e+01   \n",
       "50%   -8.747690e+01  2.456000e+03  1.349250e+09  3.936568e+01 -8.743839e+01   \n",
       "75%   -8.015800e+01  2.032800e+04  1.359385e+09  4.195716e+01 -8.023680e+01   \n",
       "max   -6.795030e+01  2.906700e+06  1.371817e+09  6.751027e+01 -6.695090e+01   \n",
       "\n",
       "           is_fraud  \n",
       "count  1.296675e+06  \n",
       "mean   5.788652e-03  \n",
       "std    7.586269e-02  \n",
       "min    0.000000e+00  \n",
       "25%    0.000000e+00  \n",
       "50%    0.000000e+00  \n",
       "75%    0.000000e+00  \n",
       "max    1.000000e+00  "
      ]
     },
     "execution_count": 5,
     "metadata": {},
     "output_type": "execute_result"
    }
   ],
   "source": [
    "# Display statistical summary of numerical columns\n",
    "train_df.describe()"
   ]
  },
  {
   "cell_type": "code",
   "execution_count": 6,
   "id": "8bfd78a4",
   "metadata": {
    "execution": {
     "iopub.execute_input": "2025-03-28T05:44:13.615118Z",
     "iopub.status.busy": "2025-03-28T05:44:13.614779Z",
     "iopub.status.idle": "2025-03-28T05:44:13.886520Z",
     "shell.execute_reply": "2025-03-28T05:44:13.885489Z"
    },
    "papermill": {
     "duration": 0.281901,
     "end_time": "2025-03-28T05:44:13.888375",
     "exception": false,
     "start_time": "2025-03-28T05:44:13.606474",
     "status": "completed"
    },
    "tags": []
   },
   "outputs": [
    {
     "data": {
      "image/png": "[encoded data removed]",
      "text/plain": [
       "<Figure size 600x400 with 1 Axes>"
      ]
     },
     "metadata": {},
     "output_type": "display_data"
    },
    {
     "name": "stdout",
     "output_type": "stream",
     "text": [
      "is_fraud\n",
      "0    1289169\n",
      "1       7506\n",
      "Name: count, dtype: int64\n"
     ]
    }
   ],
   "source": [
    "# Check fraud distribution\n",
    "fraud_counts = train_df['is_fraud'].value_counts()\n",
    "\n",
    "# Plot the fraud distribution\n",
    "plt.figure(figsize=(6,4))\n",
    "sns.barplot(x=fraud_counts.index, y=fraud_counts.values, palette='coolwarm')\n",
    "plt.xticks(ticks=[0, 1], labels=['Not Fraud (0)', 'Fraud (1)'])\n",
    "plt.ylabel('Number of Transactions')\n",
    "plt.xlabel('Fraud Classification')\n",
    "plt.title('Fraud vs. Non-Fraud Transaction Count')\n",
    "plt.show()\n",
    "\n",
    "# Print class distribution\n",
    "print(fraud_counts)"
   ]
  },
  {
   "cell_type": "code",
   "execution_count": 7,
   "id": "f432b6d6",
   "metadata": {
    "execution": {
     "iopub.execute_input": "2025-03-28T05:44:13.906680Z",
     "iopub.status.busy": "2025-03-28T05:44:13.906311Z",
     "iopub.status.idle": "2025-03-28T05:44:14.920684Z",
     "shell.execute_reply": "2025-03-28T05:44:14.919377Z"
    },
    "papermill": {
     "duration": 1.02545,
     "end_time": "2025-03-28T05:44:14.922511",
     "exception": false,
     "start_time": "2025-03-28T05:44:13.897061",
     "status": "completed"
    },
    "tags": []
   },
   "outputs": [
    {
     "name": "stdout",
     "output_type": "stream",
     "text": [
      "Processed Training Data Shape: (1296675, 12)\n",
      "  trans_date_trans_time  merchant  category       amt  gender       lat  \\\n",
      "0   2019-01-01 00:00:18       514         8 -0.407826       0 -0.484420   \n",
      "1   2019-01-01 00:00:44       241         4  0.230039       0  2.039120   \n",
      "2   2019-01-01 00:00:51       390         0  0.934149       1  0.717754   \n",
      "3   2019-01-01 00:01:16       360         2 -0.158132       1  1.515617   \n",
      "4   2019-01-01 00:03:06       297         9 -0.177094       1 -0.023035   \n",
      "\n",
      "       long  city_pop   unix_time  merch_lat  merch_long  is_fraud  \n",
      "0  0.657620      3495  1325376018  36.011293  -82.048315         0  \n",
      "1 -2.033870       149  1325376044  49.159047 -118.186462         0  \n",
      "2 -1.601537      4154  1325376051  43.150704 -112.154481         0  \n",
      "3 -1.590766      1939  1325376076  47.034331 -112.561071         0  \n",
      "4  0.782279        99  1325376186  38.674999  -78.632459         0  \n"
     ]
    }
   ],
   "source": [
    "from sklearn.preprocessing import LabelEncoder, StandardScaler\n",
    "\n",
    "# Drop unnecessary columns (modify based on your dataset)\n",
    "drop_columns = ['Unnamed: 0', 'cc_num', 'first', 'last', 'street', 'city', 'state', 'zip', 'job', 'dob', 'trans_num']\n",
    "train_df = train_df.drop(columns=drop_columns, errors='ignore')\n",
    "\n",
    "# Convert categorical columns using Label Encoding\n",
    "categorical_cols = ['merchant', 'category', 'gender']\n",
    "label_encoders = {}\n",
    "for col in categorical_cols:\n",
    "    le = LabelEncoder()\n",
    "    train_df[col] = le.fit_transform(train_df[col])\n",
    "    label_encoders[col] = le  # Save encoders for later use on test data\n",
    "\n",
    "# Normalize numerical columns\n",
    "scaler = StandardScaler()\n",
    "numeric_cols = ['amt', 'lat', 'long']\n",
    "train_df[numeric_cols] = scaler.fit_transform(train_df[numeric_cols])\n",
    "\n",
    "# Display processed data\n",
    "print(\"Processed Training Data Shape:\", train_df.shape)\n",
    "print(train_df.head())"
   ]
  },
  {
   "cell_type": "markdown",
   "id": "f50622e9",
   "metadata": {
    "papermill": {
     "duration": 0.008283,
     "end_time": "2025-03-28T05:44:14.939612",
     "exception": false,
     "start_time": "2025-03-28T05:44:14.931329",
     "status": "completed"
    },
    "tags": []
   },
   "source": [
    "# **Data Preprocessing**"
   ]
  },
  {
   "cell_type": "code",
   "execution_count": 8,
   "id": "f5e653a3",
   "metadata": {
    "execution": {
     "iopub.execute_input": "2025-03-28T05:44:14.957959Z",
     "iopub.status.busy": "2025-03-28T05:44:14.957613Z",
     "iopub.status.idle": "2025-03-28T05:44:15.095689Z",
     "shell.execute_reply": "2025-03-28T05:44:15.094518Z"
    },
    "papermill": {
     "duration": 0.149094,
     "end_time": "2025-03-28T05:44:15.097337",
     "exception": false,
     "start_time": "2025-03-28T05:44:14.948243",
     "status": "completed"
    },
    "tags": []
   },
   "outputs": [
    {
     "name": "stdout",
     "output_type": "stream",
     "text": [
      "is_fraud\n",
      "0    20000\n",
      "1    15000\n",
      "Name: count, dtype: int64\n"
     ]
    }
   ],
   "source": [
    "# Adjust fraud and normal sample sizes\n",
    "fraud_df = train_df[train_df[\"is_fraud\"] == 1]\n",
    "normal_df = train_df[train_df[\"is_fraud\"] == 0]\n",
    "\n",
    "# Resample to 15,000 fraud cases and 20,000 normal cases\n",
    "fraud_sampled = fraud_df.sample(n=15000, replace=True, random_state=42)  # Oversampling if needed\n",
    "normal_sampled = normal_df.sample(n=20000, replace=True, random_state=42)  # Undersampling if needed\n",
    "\n",
    "# Combine sampled data\n",
    "train_df = pd.concat([fraud_sampled, normal_sampled]).sample(frac=1, random_state=42).reset_index(drop=True)\n",
    "\n",
    "# Display new class distribution\n",
    "print(train_df[\"is_fraud\"].value_counts())"
   ]
  },
  {
   "cell_type": "markdown",
   "id": "900256cd",
   "metadata": {
    "papermill": {
     "duration": 0.00786,
     "end_time": "2025-03-28T05:44:15.114654",
     "exception": false,
     "start_time": "2025-03-28T05:44:15.106794",
     "status": "completed"
    },
    "tags": []
   },
   "source": [
    "# **Deep Learning Models**"
   ]
  },
  {
   "cell_type": "markdown",
   "id": "c5fe0a02",
   "metadata": {
    "papermill": {
     "duration": 0.007669,
     "end_time": "2025-03-28T05:44:15.130385",
     "exception": false,
     "start_time": "2025-03-28T05:44:15.122716",
     "status": "completed"
    },
    "tags": []
   },
   "source": [
    "### Sequential model"
   ]
  },
  {
   "cell_type": "code",
   "execution_count": 9,
   "id": "9e77fd74",
   "metadata": {
    "execution": {
     "iopub.execute_input": "2025-03-28T05:44:15.147851Z",
     "iopub.status.busy": "2025-03-28T05:44:15.147547Z",
     "iopub.status.idle": "2025-03-28T05:45:43.269644Z",
     "shell.execute_reply": "2025-03-28T05:45:43.268841Z"
    },
    "papermill": {
     "duration": 88.132651,
     "end_time": "2025-03-28T05:45:43.271122",
     "exception": false,
     "start_time": "2025-03-28T05:44:15.138471",
     "status": "completed"
    },
    "tags": []
   },
   "outputs": [
    {
     "name": "stdout",
     "output_type": "stream",
     "text": [
      "Non-numeric columns: ['trans_date_trans_time']\n"
     ]
    },
    {
     "name": "stderr",
     "output_type": "stream",
     "text": [
      "/usr/local/lib/python3.10/dist-packages/keras/src/layers/core/dense.py:87: UserWarning: Do not pass an `input_shape`/`input_dim` argument to a layer. When using Sequential models, prefer using an `Input(shape)` object as the first layer in the model instead.\n",
      "  super().__init__(activity_regularizer=activity_regularizer, **kwargs)\n"
     ]
    },
    {
     "name": "stdout",
     "output_type": "stream",
     "text": [
      "Epoch 1/20\n",
      "\u001b[1m1750/1750\u001b[0m \u001b[32m━━━━━━━━━━━━━━━━━━━━\u001b[0m\u001b[37m\u001b[0m \u001b[1m8s\u001b[0m 3ms/step - accuracy: 0.7917 - loss: 0.5197 - val_accuracy: 0.8790 - val_loss: 0.3406\n",
      "Epoch 2/20\n",
      "\u001b[1m1750/1750\u001b[0m \u001b[32m━━━━━━━━━━━━━━━━━━━━\u001b[0m\u001b[37m\u001b[0m \u001b[1m3s\u001b[0m 2ms/step - accuracy: 0.8816 - loss: 0.3884 - val_accuracy: 0.8894 - val_loss: 0.3054\n",
      "Epoch 3/20\n",
      "\u001b[1m1750/1750\u001b[0m \u001b[32m━━━━━━━━━━━━━━━━━━━━\u001b[0m\u001b[37m\u001b[0m \u001b[1m3s\u001b[0m 2ms/step - accuracy: 0.8878 - loss: 0.3615 - val_accuracy: 0.8983 - val_loss: 0.2840\n",
      "Epoch 4/20\n",
      "\u001b[1m1750/1750\u001b[0m \u001b[32m━━━━━━━━━━━━━━━━━━━━\u001b[0m\u001b[37m\u001b[0m \u001b[1m3s\u001b[0m 2ms/step - accuracy: 0.8948 - loss: 0.3320 - val_accuracy: 0.9010 - val_loss: 0.2526\n",
      "Epoch 5/20\n",
      "\u001b[1m1750/1750\u001b[0m \u001b[32m━━━━━━━━━━━━━━━━━━━━\u001b[0m\u001b[37m\u001b[0m \u001b[1m3s\u001b[0m 2ms/step - accuracy: 0.9047 - loss: 0.2991 - val_accuracy: 0.9197 - val_loss: 0.2414\n",
      "Epoch 6/20\n",
      "\u001b[1m1750/1750\u001b[0m \u001b[32m━━━━━━━━━━━━━━━━━━━━\u001b[0m\u001b[37m\u001b[0m \u001b[1m3s\u001b[0m 2ms/step - accuracy: 0.9064 - loss: 0.2836 - val_accuracy: 0.9251 - val_loss: 0.2272\n",
      "Epoch 7/20\n",
      "\u001b[1m1750/1750\u001b[0m \u001b[32m━━━━━━━━━━━━━━━━━━━━\u001b[0m\u001b[37m\u001b[0m \u001b[1m3s\u001b[0m 2ms/step - accuracy: 0.9144 - loss: 0.2698 - val_accuracy: 0.9287 - val_loss: 0.2015\n",
      "Epoch 8/20\n",
      "\u001b[1m1750/1750\u001b[0m \u001b[32m━━━━━━━━━━━━━━━━━━━━\u001b[0m\u001b[37m\u001b[0m \u001b[1m3s\u001b[0m 2ms/step - accuracy: 0.9129 - loss: 0.2604 - val_accuracy: 0.9234 - val_loss: 0.2086\n",
      "Epoch 9/20\n",
      "\u001b[1m1750/1750\u001b[0m \u001b[32m━━━━━━━━━━━━━━━━━━━━\u001b[0m\u001b[37m\u001b[0m \u001b[1m3s\u001b[0m 2ms/step - accuracy: 0.9181 - loss: 0.2474 - val_accuracy: 0.9230 - val_loss: 0.2083\n",
      "Epoch 10/20\n",
      "\u001b[1m1750/1750\u001b[0m \u001b[32m━━━━━━━━━━━━━━━━━━━━\u001b[0m\u001b[37m\u001b[0m \u001b[1m3s\u001b[0m 2ms/step - accuracy: 0.9189 - loss: 0.2439 - val_accuracy: 0.9284 - val_loss: 0.1917\n",
      "Epoch 11/20\n",
      "\u001b[1m1750/1750\u001b[0m \u001b[32m━━━━━━━━━━━━━━━━━━━━\u001b[0m\u001b[37m\u001b[0m \u001b[1m3s\u001b[0m 2ms/step - accuracy: 0.9202 - loss: 0.2376 - val_accuracy: 0.9297 - val_loss: 0.1890\n",
      "Epoch 12/20\n",
      "\u001b[1m1750/1750\u001b[0m \u001b[32m━━━━━━━━━━━━━━━━━━━━\u001b[0m\u001b[37m\u001b[0m \u001b[1m3s\u001b[0m 2ms/step - accuracy: 0.9217 - loss: 0.2307 - val_accuracy: 0.9341 - val_loss: 0.1926\n",
      "Epoch 13/20\n",
      "\u001b[1m1750/1750\u001b[0m \u001b[32m━━━━━━━━━━━━━━━━━━━━\u001b[0m\u001b[37m\u001b[0m \u001b[1m3s\u001b[0m 2ms/step - accuracy: 0.9219 - loss: 0.2330 - val_accuracy: 0.9306 - val_loss: 0.1821\n",
      "Epoch 14/20\n",
      "\u001b[1m1750/1750\u001b[0m \u001b[32m━━━━━━━━━━━━━━━━━━━━\u001b[0m\u001b[37m\u001b[0m \u001b[1m3s\u001b[0m 2ms/step - accuracy: 0.9238 - loss: 0.2234 - val_accuracy: 0.9316 - val_loss: 0.1800\n",
      "Epoch 15/20\n",
      "\u001b[1m1750/1750\u001b[0m \u001b[32m━━━━━━━━━━━━━━━━━━━━\u001b[0m\u001b[37m\u001b[0m \u001b[1m3s\u001b[0m 2ms/step - accuracy: 0.9230 - loss: 0.2281 - val_accuracy: 0.9334 - val_loss: 0.1725\n",
      "Epoch 16/20\n",
      "\u001b[1m1750/1750\u001b[0m \u001b[32m━━━━━━━━━━━━━━━━━━━━\u001b[0m\u001b[37m\u001b[0m \u001b[1m3s\u001b[0m 2ms/step - accuracy: 0.9224 - loss: 0.2234 - val_accuracy: 0.9333 - val_loss: 0.1798\n",
      "Epoch 17/20\n",
      "\u001b[1m1750/1750\u001b[0m \u001b[32m━━━━━━━━━━━━━━━━━━━━\u001b[0m\u001b[37m\u001b[0m \u001b[1m3s\u001b[0m 2ms/step - accuracy: 0.9237 - loss: 0.2193 - val_accuracy: 0.9347 - val_loss: 0.1822\n",
      "Epoch 18/20\n",
      "\u001b[1m1750/1750\u001b[0m \u001b[32m━━━━━━━━━━━━━━━━━━━━\u001b[0m\u001b[37m\u001b[0m \u001b[1m3s\u001b[0m 2ms/step - accuracy: 0.9249 - loss: 0.2251 - val_accuracy: 0.9351 - val_loss: 0.1684\n",
      "Epoch 19/20\n",
      "\u001b[1m1750/1750\u001b[0m \u001b[32m━━━━━━━━━━━━━━━━━━━━\u001b[0m\u001b[37m\u001b[0m \u001b[1m3s\u001b[0m 2ms/step - accuracy: 0.9286 - loss: 0.2136 - val_accuracy: 0.9346 - val_loss: 0.1768\n",
      "Epoch 20/20\n",
      "\u001b[1m1750/1750\u001b[0m \u001b[32m━━━━━━━━━━━━━━━━━━━━\u001b[0m\u001b[37m\u001b[0m \u001b[1m4s\u001b[0m 2ms/step - accuracy: 0.9277 - loss: 0.2080 - val_accuracy: 0.9356 - val_loss: 0.1705\n",
      "\u001b[1m219/219\u001b[0m \u001b[32m━━━━━━━━━━━━━━━━━━━━\u001b[0m\u001b[37m\u001b[0m \u001b[1m1s\u001b[0m 2ms/step - accuracy: 0.9339 - loss: 0.1689\n"
     ]
    }
   ],
   "source": [
    "from sklearn.model_selection import train_test_split\n",
    "from sklearn.preprocessing import StandardScaler, LabelEncoder\n",
    "from tensorflow.keras.models import Sequential\n",
    "from tensorflow.keras.layers import Dense, Dropout\n",
    "from tensorflow.keras.optimizers import Adam\n",
    "from tensorflow.keras.callbacks import EarlyStopping\n",
    "from sklearn.utils.class_weight import compute_class_weight\n",
    "\n",
    "# Ensure train_df exists\n",
    "if 'train_df' not in locals():\n",
    "    raise ValueError(\"train_df is not defined. Please ensure your dataset is loaded.\")\n",
    "\n",
    "# Identify non-numeric columns\n",
    "non_numeric_cols = train_df.select_dtypes(exclude=['number']).columns.tolist()\n",
    "print(f\"Non-numeric columns: {non_numeric_cols}\")\n",
    "\n",
    "# Handle datetime columns\n",
    "if 'transaction_date' in train_df.columns:  # Change column name as per your dataset\n",
    "    train_df['transaction_timestamp'] = pd.to_datetime(train_df['transaction_date']).astype(int) // 10**9\n",
    "    train_df.drop(columns=['transaction_date'], inplace=True)\n",
    "\n",
    "# Handle categorical columns (convert to numerical)\n",
    "label_encoders = {}\n",
    "for col in non_numeric_cols:\n",
    "    if col != \"is_fraud\" and col != \"transaction_date\":  # Exclude target and datetime column\n",
    "        le = LabelEncoder()\n",
    "        train_df[col] = le.fit_transform(train_df[col].astype(str))\n",
    "        label_encoders[col] = le\n",
    "\n",
    "# Define X and y\n",
    "X = train_df.drop(columns=[\"is_fraud\"])\n",
    "y = train_df[\"is_fraud\"].values  # Ensure y is a NumPy array\n",
    "\n",
    "# Normalize Features\n",
    "scaler = StandardScaler()\n",
    "X_scaled = scaler.fit_transform(X.astype(np.float32))  # Convert to float32 to save memory\n",
    "\n",
    "# Train-Test Split\n",
    "X_train, X_test, y_train, y_test = train_test_split(X_scaled, y, test_size=0.2, random_state=42, stratify=y)\n",
    "\n",
    "# Compute Class Weights\n",
    "class_weights = compute_class_weight(\"balanced\", classes=np.unique(y_train), y=y_train)\n",
    "class_weight_dict = {cls: weight for cls, weight in zip(np.unique(y_train), class_weights)}\n",
    "\n",
    "# Increase fraud weight slightly to improve recall\n",
    "class_weight_dict[1] *= 1.2\n",
    "\n",
    "# Build Deep Learning Model\n",
    "model = Sequential([\n",
    "    Dense(64, activation=\"relu\", input_shape=(X_train.shape[1],)),  # Reduced neurons\n",
    "    Dropout(0.2),  # Adjusted dropout\n",
    "    Dense(32, activation=\"relu\"),\n",
    "    Dropout(0.1),\n",
    "    Dense(16, activation=\"relu\"),\n",
    "    Dense(1, activation=\"sigmoid\")\n",
    "])\n",
    "\n",
    "# Compile Model\n",
    "model.compile(optimizer=Adam(learning_rate=0.001), loss=\"binary_crossentropy\", metrics=[\"accuracy\"])\n",
    "\n",
    "# Early Stopping Callback\n",
    "early_stopping = EarlyStopping(monitor=\"val_loss\", patience=3, restore_best_weights=True)\n",
    "\n",
    "# Train Model\n",
    "history = model.fit(X_train, y_train, epochs=20, batch_size=16, validation_data=(X_test, y_test),  \n",
    "                    class_weight=class_weight_dict, callbacks=[early_stopping])\n",
    "\n",
    "# Evaluate Model\n",
    "eval_results = model.evaluate(X_test, y_test)"
   ]
  },
  {
   "cell_type": "code",
   "execution_count": 10,
   "id": "3a67a794",
   "metadata": {
    "execution": {
     "iopub.execute_input": "2025-03-28T05:45:43.413539Z",
     "iopub.status.busy": "2025-03-28T05:45:43.412864Z",
     "iopub.status.idle": "2025-03-28T05:45:44.246044Z",
     "shell.execute_reply": "2025-03-28T05:45:44.244776Z"
    },
    "papermill": {
     "duration": 0.905592,
     "end_time": "2025-03-28T05:45:44.247936",
     "exception": false,
     "start_time": "2025-03-28T05:45:43.342344",
     "status": "completed"
    },
    "tags": []
   },
   "outputs": [
    {
     "name": "stdout",
     "output_type": "stream",
     "text": [
      "\u001b[1m219/219\u001b[0m \u001b[32m━━━━━━━━━━━━━━━━━━━━\u001b[0m\u001b[37m\u001b[0m \u001b[1m1s\u001b[0m 2ms/step\n",
      "              precision    recall  f1-score   support\n",
      "\n",
      "  Normal (0)       0.92      0.97      0.94      4000\n",
      "   Fraud (1)       0.96      0.89      0.92      3000\n",
      "\n",
      "    accuracy                           0.94      7000\n",
      "   macro avg       0.94      0.93      0.93      7000\n",
      "weighted avg       0.94      0.94      0.93      7000\n",
      "\n"
     ]
    }
   ],
   "source": [
    "from sklearn.metrics import classification_report\n",
    "\n",
    "# Predict on test data\n",
    "y_pred = (model.predict(X_test) > 0.4).astype(int) # Convert probabilities to binary values\n",
    "\n",
    "# Generate classification report\n",
    "report = classification_report(y_test, y_pred, target_names=[\"Normal (0)\", \"Fraud (1)\"])\n",
    "print(report)"
   ]
  },
  {
   "cell_type": "markdown",
   "id": "70ec4b9d",
   "metadata": {
    "papermill": {
     "duration": 0.070311,
     "end_time": "2025-03-28T05:45:44.386154",
     "exception": false,
     "start_time": "2025-03-28T05:45:44.315843",
     "status": "completed"
    },
    "tags": []
   },
   "source": [
    "### LSTM"
   ]
  },
  {
   "cell_type": "code",
   "execution_count": 11,
   "id": "b1f15e44",
   "metadata": {
    "execution": {
     "iopub.execute_input": "2025-03-28T05:45:44.523310Z",
     "iopub.status.busy": "2025-03-28T05:45:44.523004Z",
     "iopub.status.idle": "2025-03-28T05:47:58.343254Z",
     "shell.execute_reply": "2025-03-28T05:47:58.342298Z"
    },
    "papermill": {
     "duration": 133.890756,
     "end_time": "2025-03-28T05:47:58.344885",
     "exception": false,
     "start_time": "2025-03-28T05:45:44.454129",
     "status": "completed"
    },
    "tags": []
   },
   "outputs": [
    {
     "name": "stderr",
     "output_type": "stream",
     "text": [
      "/usr/local/lib/python3.10/dist-packages/keras/src/layers/rnn/rnn.py:204: UserWarning: Do not pass an `input_shape`/`input_dim` argument to a layer. When using Sequential models, prefer using an `Input(shape)` object as the first layer in the model instead.\n",
      "  super().__init__(**kwargs)\n"
     ]
    },
    {
     "name": "stdout",
     "output_type": "stream",
     "text": [
      "Epoch 1/20\n",
      "\u001b[1m875/875\u001b[0m \u001b[32m━━━━━━━━━━━━━━━━━━━━\u001b[0m\u001b[37m\u001b[0m \u001b[1m12s\u001b[0m 7ms/step - accuracy: 0.7907 - loss: 0.4878 - val_accuracy: 0.8823 - val_loss: 0.3283\n",
      "Epoch 2/20\n",
      "\u001b[1m875/875\u001b[0m \u001b[32m━━━━━━━━━━━━━━━━━━━━\u001b[0m\u001b[37m\u001b[0m \u001b[1m6s\u001b[0m 7ms/step - accuracy: 0.8678 - loss: 0.3624 - val_accuracy: 0.8791 - val_loss: 0.3007\n",
      "Epoch 3/20\n",
      "\u001b[1m875/875\u001b[0m \u001b[32m━━━━━━━━━━━━━━━━━━━━\u001b[0m\u001b[37m\u001b[0m \u001b[1m6s\u001b[0m 7ms/step - accuracy: 0.8743 - loss: 0.3332 - val_accuracy: 0.9017 - val_loss: 0.2895\n",
      "Epoch 4/20\n",
      "\u001b[1m875/875\u001b[0m \u001b[32m━━━━━━━━━━━━━━━━━━━━\u001b[0m\u001b[37m\u001b[0m \u001b[1m7s\u001b[0m 8ms/step - accuracy: 0.8793 - loss: 0.3152 - val_accuracy: 0.9096 - val_loss: 0.2613\n",
      "Epoch 5/20\n",
      "\u001b[1m875/875\u001b[0m \u001b[32m━━━━━━━━━━━━━━━━━━━━\u001b[0m\u001b[37m\u001b[0m \u001b[1m6s\u001b[0m 7ms/step - accuracy: 0.8843 - loss: 0.3102 - val_accuracy: 0.9079 - val_loss: 0.2433\n",
      "Epoch 6/20\n",
      "\u001b[1m875/875\u001b[0m \u001b[32m━━━━━━━━━━━━━━━━━━━━\u001b[0m\u001b[37m\u001b[0m \u001b[1m6s\u001b[0m 7ms/step - accuracy: 0.8916 - loss: 0.2914 - val_accuracy: 0.9137 - val_loss: 0.2327\n",
      "Epoch 7/20\n",
      "\u001b[1m875/875\u001b[0m \u001b[32m━━━━━━━━━━━━━━━━━━━━\u001b[0m\u001b[37m\u001b[0m \u001b[1m6s\u001b[0m 7ms/step - accuracy: 0.9008 - loss: 0.2744 - val_accuracy: 0.9243 - val_loss: 0.2152\n",
      "Epoch 8/20\n",
      "\u001b[1m875/875\u001b[0m \u001b[32m━━━━━━━━━━━━━━━━━━━━\u001b[0m\u001b[37m\u001b[0m \u001b[1m6s\u001b[0m 7ms/step - accuracy: 0.9089 - loss: 0.2569 - val_accuracy: 0.9246 - val_loss: 0.2121\n",
      "Epoch 9/20\n",
      "\u001b[1m875/875\u001b[0m \u001b[32m━━━━━━━━━━━━━━━━━━━━\u001b[0m\u001b[37m\u001b[0m \u001b[1m7s\u001b[0m 8ms/step - accuracy: 0.9098 - loss: 0.2531 - val_accuracy: 0.9249 - val_loss: 0.2002\n",
      "Epoch 10/20\n",
      "\u001b[1m875/875\u001b[0m \u001b[32m━━━━━━━━━━━━━━━━━━━━\u001b[0m\u001b[37m\u001b[0m \u001b[1m6s\u001b[0m 7ms/step - accuracy: 0.9088 - loss: 0.2488 - val_accuracy: 0.9183 - val_loss: 0.2130\n",
      "Epoch 11/20\n",
      "\u001b[1m875/875\u001b[0m \u001b[32m━━━━━━━━━━━━━━━━━━━━\u001b[0m\u001b[37m\u001b[0m \u001b[1m6s\u001b[0m 7ms/step - accuracy: 0.9103 - loss: 0.2447 - val_accuracy: 0.9220 - val_loss: 0.2063\n",
      "Epoch 12/20\n",
      "\u001b[1m875/875\u001b[0m \u001b[32m━━━━━━━━━━━━━━━━━━━━\u001b[0m\u001b[37m\u001b[0m \u001b[1m6s\u001b[0m 7ms/step - accuracy: 0.9143 - loss: 0.2369 - val_accuracy: 0.9286 - val_loss: 0.1864\n",
      "Epoch 13/20\n",
      "\u001b[1m875/875\u001b[0m \u001b[32m━━━━━━━━━━━━━━━━━━━━\u001b[0m\u001b[37m\u001b[0m \u001b[1m6s\u001b[0m 7ms/step - accuracy: 0.9160 - loss: 0.2262 - val_accuracy: 0.9307 - val_loss: 0.1879\n",
      "Epoch 14/20\n",
      "\u001b[1m875/875\u001b[0m \u001b[32m━━━━━━━━━━━━━━━━━━━━\u001b[0m\u001b[37m\u001b[0m \u001b[1m7s\u001b[0m 8ms/step - accuracy: 0.9155 - loss: 0.2327 - val_accuracy: 0.9304 - val_loss: 0.1837\n",
      "Epoch 15/20\n",
      "\u001b[1m875/875\u001b[0m \u001b[32m━━━━━━━━━━━━━━━━━━━━\u001b[0m\u001b[37m\u001b[0m \u001b[1m6s\u001b[0m 7ms/step - accuracy: 0.9168 - loss: 0.2242 - val_accuracy: 0.9269 - val_loss: 0.1871\n",
      "Epoch 16/20\n",
      "\u001b[1m875/875\u001b[0m \u001b[32m━━━━━━━━━━━━━━━━━━━━\u001b[0m\u001b[37m\u001b[0m \u001b[1m6s\u001b[0m 7ms/step - accuracy: 0.9160 - loss: 0.2243 - val_accuracy: 0.9326 - val_loss: 0.1762\n",
      "Epoch 17/20\n",
      "\u001b[1m875/875\u001b[0m \u001b[32m━━━━━━━━━━━━━━━━━━━━\u001b[0m\u001b[37m\u001b[0m \u001b[1m6s\u001b[0m 7ms/step - accuracy: 0.9153 - loss: 0.2226 - val_accuracy: 0.9371 - val_loss: 0.1731\n",
      "Epoch 18/20\n",
      "\u001b[1m875/875\u001b[0m \u001b[32m━━━━━━━━━━━━━━━━━━━━\u001b[0m\u001b[37m\u001b[0m \u001b[1m6s\u001b[0m 7ms/step - accuracy: 0.9200 - loss: 0.2220 - val_accuracy: 0.9324 - val_loss: 0.1721\n",
      "Epoch 19/20\n",
      "\u001b[1m875/875\u001b[0m \u001b[32m━━━━━━━━━━━━━━━━━━━━\u001b[0m\u001b[37m\u001b[0m \u001b[1m7s\u001b[0m 7ms/step - accuracy: 0.9202 - loss: 0.2156 - val_accuracy: 0.9384 - val_loss: 0.1658\n",
      "Epoch 20/20\n",
      "\u001b[1m875/875\u001b[0m \u001b[32m━━━━━━━━━━━━━━━━━━━━\u001b[0m\u001b[37m\u001b[0m \u001b[1m6s\u001b[0m 7ms/step - accuracy: 0.9191 - loss: 0.2156 - val_accuracy: 0.9331 - val_loss: 0.1714\n",
      "\u001b[1m219/219\u001b[0m \u001b[32m━━━━━━━━━━━━━━━━━━━━\u001b[0m\u001b[37m\u001b[0m \u001b[1m1s\u001b[0m 3ms/step - accuracy: 0.9368 - loss: 0.1654\n"
     ]
    }
   ],
   "source": [
    "from sklearn.model_selection import train_test_split\n",
    "from sklearn.preprocessing import StandardScaler\n",
    "from tensorflow.keras.models import Sequential\n",
    "from tensorflow.keras.layers import LSTM, Dense, Dropout, BatchNormalization\n",
    "from tensorflow.keras.optimizers import Adam\n",
    "from tensorflow.keras.callbacks import EarlyStopping\n",
    "from sklearn.utils.class_weight import compute_class_weight\n",
    "\n",
    "# Use preprocessed train_df\n",
    "\n",
    "# Define X and y\n",
    "X = train_df.drop(columns=[\"is_fraud\"])\n",
    "y = train_df[\"is_fraud\"].values  # Ensure y is a NumPy array\n",
    "\n",
    "# Normalize Features\n",
    "scaler = StandardScaler()\n",
    "X_scaled = scaler.fit_transform(X.astype(np.float32))  # Convert to float32 to save memory\n",
    "\n",
    "# Reshape for LSTM (samples, timesteps, features) - Using 1 timestep as transactions are independent\n",
    "X_reshaped = X_scaled.reshape((X_scaled.shape[0], 1, X_scaled.shape[1]))\n",
    "\n",
    "# Train-Test Split\n",
    "X_train, X_test, y_train, y_test = train_test_split(X_reshaped, y, test_size=0.2, random_state=42, stratify=y)\n",
    "\n",
    "# Compute Class Weights\n",
    "class_weights = compute_class_weight(\"balanced\", classes=np.unique(y_train), y=y_train)\n",
    "class_weight_dict = {cls: weight for cls, weight in zip(np.unique(y_train), class_weights)}\n",
    "\n",
    "# Build LSTM Model\n",
    "model = Sequential([\n",
    "    LSTM(64, return_sequences=True, input_shape=(1, X_train.shape[2])),\n",
    "    BatchNormalization(),\n",
    "    Dropout(0.3),\n",
    "    LSTM(32, return_sequences=False),\n",
    "    BatchNormalization(),\n",
    "    Dropout(0.2),\n",
    "    Dense(16, activation=\"relu\"),\n",
    "    Dense(1, activation=\"sigmoid\")\n",
    "])\n",
    "\n",
    "# Compile Model\n",
    "model.compile(optimizer=Adam(learning_rate=0.001), loss=\"binary_crossentropy\", metrics=[\"accuracy\"])\n",
    "\n",
    "# Early Stopping Callback\n",
    "early_stopping = EarlyStopping(monitor=\"val_loss\", patience=3, restore_best_weights=True)\n",
    "\n",
    "# Train Model\n",
    "history = model.fit(X_train, y_train, epochs=20, batch_size=32, validation_data=(X_test, y_test),\n",
    "                    class_weight=class_weight_dict, callbacks=[early_stopping])\n",
    "\n",
    "# Evaluate Model\n",
    "eval_results = model.evaluate(X_test, y_test)"
   ]
  },
  {
   "cell_type": "code",
   "execution_count": 12,
   "id": "a45adcef",
   "metadata": {
    "execution": {
     "iopub.execute_input": "2025-03-28T05:47:58.734796Z",
     "iopub.status.busy": "2025-03-28T05:47:58.734366Z",
     "iopub.status.idle": "2025-03-28T05:47:59.669655Z",
     "shell.execute_reply": "2025-03-28T05:47:59.668356Z"
    },
    "papermill": {
     "duration": 1.131431,
     "end_time": "2025-03-28T05:47:59.671397",
     "exception": false,
     "start_time": "2025-03-28T05:47:58.539966",
     "status": "completed"
    },
    "tags": []
   },
   "outputs": [
    {
     "name": "stdout",
     "output_type": "stream",
     "text": [
      "\u001b[1m219/219\u001b[0m \u001b[32m━━━━━━━━━━━━━━━━━━━━\u001b[0m\u001b[37m\u001b[0m \u001b[1m1s\u001b[0m 3ms/step\n",
      "              precision    recall  f1-score   support\n",
      "\n",
      "  Normal (0)       0.93      0.96      0.94      4000\n",
      "   Fraud (1)       0.95      0.90      0.92      3000\n",
      "\n",
      "    accuracy                           0.93      7000\n",
      "   macro avg       0.94      0.93      0.93      7000\n",
      "weighted avg       0.93      0.93      0.93      7000\n",
      "\n"
     ]
    }
   ],
   "source": [
    "from sklearn.metrics import classification_report\n",
    "\n",
    "# Predict on test set\n",
    "y_pred_proba = model.predict(X_test)\n",
    "y_pred = (y_pred_proba > 0.4).astype(int) # Convert probabilities to binary labels\n",
    "\n",
    "# Print classification report\n",
    "print(classification_report(y_test, y_pred, target_names=[\"Normal (0)\", \"Fraud (1)\"]))"
   ]
  },
  {
   "cell_type": "markdown",
   "id": "13da7b8c",
   "metadata": {
    "papermill": {
     "duration": 0.189361,
     "end_time": "2025-03-28T05:48:00.069915",
     "exception": false,
     "start_time": "2025-03-28T05:47:59.880554",
     "status": "completed"
    },
    "tags": []
   },
   "source": [
    "# **ML Models**"
   ]
  },
  {
   "cell_type": "code",
   "execution_count": 13,
   "id": "ddc0f54f",
   "metadata": {
    "execution": {
     "iopub.execute_input": "2025-03-28T05:48:00.453858Z",
     "iopub.status.busy": "2025-03-28T05:48:00.453508Z",
     "iopub.status.idle": "2025-03-28T05:48:01.048730Z",
     "shell.execute_reply": "2025-03-28T05:48:01.047839Z"
    },
    "papermill": {
     "duration": 0.789612,
     "end_time": "2025-03-28T05:48:01.050557",
     "exception": false,
     "start_time": "2025-03-28T05:48:00.260945",
     "status": "completed"
    },
    "tags": []
   },
   "outputs": [],
   "source": [
    "from sklearn.model_selection import train_test_split\n",
    "from sklearn.metrics import classification_report\n",
    "from sklearn.preprocessing import StandardScaler\n",
    "from sklearn.metrics import accuracy_score, precision_score, recall_score, f1_score, roc_auc_score\n",
    "from sklearn.linear_model import LogisticRegression\n",
    "from sklearn.tree import DecisionTreeClassifier\n",
    "from sklearn.ensemble import RandomForestClassifier\n",
    "from sklearn.svm import SVC\n",
    "from sklearn.neighbors import KNeighborsClassifier\n",
    "from xgboost import XGBClassifier\n",
    "\n",
    "# Load dataset (Assuming train_df is preprocessed)\n",
    "X = train_df.drop(columns=[\"is_fraud\"])\n",
    "y = train_df[\"is_fraud\"].values\n",
    "\n",
    "# Normalize Features\n",
    "scaler = StandardScaler()\n",
    "X_scaled = scaler.fit_transform(X.astype(np.float32))\n",
    "\n",
    "# Train-Test Split\n",
    "X_train, X_test, y_train, y_test = train_test_split(X_scaled, y, test_size=0.2, random_state=42)\n",
    "\n",
    "# Function to evaluate models\n",
    "def evaluate_model(model, X_test, y_test):\n",
    "    y_pred = model.predict(X_test)\n",
    "    y_prob = model.predict_proba(X_test)[:, 1] if hasattr(model, 'predict_proba') else y_pred\n",
    "    print(f\"Model: {model.__class__.__name__}\")\n",
    "    print(f\"Accuracy: {accuracy_score(y_test, y_pred):.4f}\")\n",
    "    print(f\"Precision: {precision_score(y_test, y_pred):.4f}\")\n",
    "    print(f\"Recall: {recall_score(y_test, y_pred):.4f}\")\n",
    "    print(f\"F1 Score: {f1_score(y_test, y_pred):.4f}\")\n",
    "    print(f\"AUC-ROC: {roc_auc_score(y_test, y_prob):.4f}\\n\")"
   ]
  },
  {
   "cell_type": "markdown",
   "id": "f51d9757",
   "metadata": {
    "papermill": {
     "duration": 0.196086,
     "end_time": "2025-03-28T05:48:01.492681",
     "exception": false,
     "start_time": "2025-03-28T05:48:01.296595",
     "status": "completed"
    },
    "tags": []
   },
   "source": [
    "### Logistic Regression"
   ]
  },
  {
   "cell_type": "code",
   "execution_count": 14,
   "id": "e236e66d",
   "metadata": {
    "execution": {
     "iopub.execute_input": "2025-03-28T05:48:01.887565Z",
     "iopub.status.busy": "2025-03-28T05:48:01.887169Z",
     "iopub.status.idle": "2025-03-28T05:48:02.007737Z",
     "shell.execute_reply": "2025-03-28T05:48:02.006328Z"
    },
    "papermill": {
     "duration": 0.317616,
     "end_time": "2025-03-28T05:48:02.009782",
     "exception": false,
     "start_time": "2025-03-28T05:48:01.692166",
     "status": "completed"
    },
    "tags": []
   },
   "outputs": [
    {
     "name": "stdout",
     "output_type": "stream",
     "text": [
      "Model: LogisticRegression\n",
      "Accuracy: 0.8664\n",
      "Precision: 0.9488\n",
      "Recall: 0.7318\n",
      "F1 Score: 0.8263\n",
      "AUC-ROC: 0.8485\n",
      "\n"
     ]
    }
   ],
   "source": [
    "# Logistic Regression\n",
    "log_reg = LogisticRegression()\n",
    "log_reg.fit(X_train, y_train)\n",
    "evaluate_model(log_reg, X_test, y_test)"
   ]
  },
  {
   "cell_type": "code",
   "execution_count": 15,
   "id": "52493b68",
   "metadata": {
    "execution": {
     "iopub.execute_input": "2025-03-28T05:48:02.398178Z",
     "iopub.status.busy": "2025-03-28T05:48:02.397845Z",
     "iopub.status.idle": "2025-03-28T05:48:02.505011Z",
     "shell.execute_reply": "2025-03-28T05:48:02.503697Z"
    },
    "papermill": {
     "duration": 0.301261,
     "end_time": "2025-03-28T05:48:02.506653",
     "exception": false,
     "start_time": "2025-03-28T05:48:02.205392",
     "status": "completed"
    },
    "tags": []
   },
   "outputs": [
    {
     "name": "stdout",
     "output_type": "stream",
     "text": [
      "LogisticRegression:\n",
      "               precision    recall  f1-score   support\n",
      "\n",
      "      Normal       0.82      0.97      0.89      3961\n",
      "       Fraud       0.95      0.73      0.83      3039\n",
      "\n",
      "    accuracy                           0.87      7000\n",
      "   macro avg       0.89      0.85      0.86      7000\n",
      "weighted avg       0.88      0.87      0.86      7000\n",
      "\n"
     ]
    }
   ],
   "source": [
    "# Train Logistic Regression\n",
    "log_reg = LogisticRegression()\n",
    "log_reg.fit(X_train, y_train)\n",
    "\n",
    "# Generate predictions\n",
    "y_pred = log_reg.predict(X_test)\n",
    "\n",
    "# Get classification report for both classes\n",
    "report = classification_report(y_test, y_pred, target_names=[\"Normal\", \"Fraud\"])\n",
    "print(\"LogisticRegression:\\n\", report)"
   ]
  },
  {
   "cell_type": "markdown",
   "id": "a64db0d4",
   "metadata": {
    "papermill": {
     "duration": 0.247212,
     "end_time": "2025-03-28T05:48:02.948117",
     "exception": false,
     "start_time": "2025-03-28T05:48:02.700905",
     "status": "completed"
    },
    "tags": []
   },
   "source": [
    "### Decision Tree"
   ]
  },
  {
   "cell_type": "code",
   "execution_count": 16,
   "id": "8141fc2c",
   "metadata": {
    "execution": {
     "iopub.execute_input": "2025-03-28T05:48:03.333259Z",
     "iopub.status.busy": "2025-03-28T05:48:03.332891Z",
     "iopub.status.idle": "2025-03-28T05:48:03.599021Z",
     "shell.execute_reply": "2025-03-28T05:48:03.597687Z"
    },
    "papermill": {
     "duration": 0.458301,
     "end_time": "2025-03-28T05:48:03.600803",
     "exception": false,
     "start_time": "2025-03-28T05:48:03.142502",
     "status": "completed"
    },
    "tags": []
   },
   "outputs": [
    {
     "name": "stdout",
     "output_type": "stream",
     "text": [
      "Model: DecisionTreeClassifier\n",
      "Accuracy: 0.9787\n",
      "Precision: 0.9685\n",
      "Recall: 0.9829\n",
      "F1 Score: 0.9757\n",
      "AUC-ROC: 0.9792\n",
      "\n"
     ]
    }
   ],
   "source": [
    "# Decision Tree\n",
    "decision_tree = DecisionTreeClassifier()\n",
    "decision_tree.fit(X_train, y_train)\n",
    "evaluate_model(decision_tree, X_test, y_test)"
   ]
  },
  {
   "cell_type": "code",
   "execution_count": 17,
   "id": "772d3b94",
   "metadata": {
    "execution": {
     "iopub.execute_input": "2025-03-28T05:48:03.990935Z",
     "iopub.status.busy": "2025-03-28T05:48:03.990605Z",
     "iopub.status.idle": "2025-03-28T05:48:04.274072Z",
     "shell.execute_reply": "2025-03-28T05:48:04.273129Z"
    },
    "papermill": {
     "duration": 0.484389,
     "end_time": "2025-03-28T05:48:04.276224",
     "exception": false,
     "start_time": "2025-03-28T05:48:03.791835",
     "status": "completed"
    },
    "tags": []
   },
   "outputs": [
    {
     "name": "stdout",
     "output_type": "stream",
     "text": [
      "Decision Tree:\n",
      "               precision    recall  f1-score   support\n",
      "\n",
      "      Normal       0.99      0.97      0.98      3961\n",
      "       Fraud       0.97      0.98      0.97      3039\n",
      "\n",
      "    accuracy                           0.98      7000\n",
      "   macro avg       0.98      0.98      0.98      7000\n",
      "weighted avg       0.98      0.98      0.98      7000\n",
      "\n"
     ]
    }
   ],
   "source": [
    "# Train Decision Tree\n",
    "dt = DecisionTreeClassifier(random_state=42)\n",
    "dt.fit(X_train, y_train)\n",
    "\n",
    "# Generate predictions\n",
    "y_pred = dt.predict(X_test)\n",
    "\n",
    "# Get classification report\n",
    "report = classification_report(y_test, y_pred, target_names=[\"Normal\", \"Fraud\"])\n",
    "print(\"Decision Tree:\\n\", report)"
   ]
  },
  {
   "cell_type": "markdown",
   "id": "b3288776",
   "metadata": {
    "papermill": {
     "duration": 0.196865,
     "end_time": "2025-03-28T05:48:04.662919",
     "exception": false,
     "start_time": "2025-03-28T05:48:04.466054",
     "status": "completed"
    },
    "tags": []
   },
   "source": [
    "### Random Forest"
   ]
  },
  {
   "cell_type": "code",
   "execution_count": 18,
   "id": "e3047f00",
   "metadata": {
    "execution": {
     "iopub.execute_input": "2025-03-28T05:48:05.047628Z",
     "iopub.status.busy": "2025-03-28T05:48:05.047268Z",
     "iopub.status.idle": "2025-03-28T05:48:11.516532Z",
     "shell.execute_reply": "2025-03-28T05:48:11.515336Z"
    },
    "papermill": {
     "duration": 6.662245,
     "end_time": "2025-03-28T05:48:11.518523",
     "exception": false,
     "start_time": "2025-03-28T05:48:04.856278",
     "status": "completed"
    },
    "tags": []
   },
   "outputs": [
    {
     "name": "stdout",
     "output_type": "stream",
     "text": [
      "Model: RandomForestClassifier\n",
      "Accuracy: 0.9826\n",
      "Precision: 0.9799\n",
      "Recall: 0.9799\n",
      "F1 Score: 0.9799\n",
      "AUC-ROC: 0.9982\n",
      "\n"
     ]
    }
   ],
   "source": [
    "# Random Forest\n",
    "random_forest = RandomForestClassifier()\n",
    "random_forest.fit(X_train, y_train)\n",
    "evaluate_model(random_forest, X_test, y_test)"
   ]
  },
  {
   "cell_type": "code",
   "execution_count": 19,
   "id": "19e6c472",
   "metadata": {
    "execution": {
     "iopub.execute_input": "2025-03-28T05:48:11.967442Z",
     "iopub.status.busy": "2025-03-28T05:48:11.967084Z",
     "iopub.status.idle": "2025-03-28T05:48:18.272847Z",
     "shell.execute_reply": "2025-03-28T05:48:18.271911Z"
    },
    "papermill": {
     "duration": 6.555498,
     "end_time": "2025-03-28T05:48:18.274824",
     "exception": false,
     "start_time": "2025-03-28T05:48:11.719326",
     "status": "completed"
    },
    "tags": []
   },
   "outputs": [
    {
     "name": "stdout",
     "output_type": "stream",
     "text": [
      "Random Forest:\n",
      "               precision    recall  f1-score   support\n",
      "\n",
      "      Normal       0.99      0.98      0.99      3961\n",
      "       Fraud       0.98      0.98      0.98      3039\n",
      "\n",
      "    accuracy                           0.98      7000\n",
      "   macro avg       0.98      0.98      0.98      7000\n",
      "weighted avg       0.98      0.98      0.98      7000\n",
      "\n"
     ]
    }
   ],
   "source": [
    "# Train Random Forest\n",
    "rf = RandomForestClassifier(n_estimators=100, random_state=42)\n",
    "rf.fit(X_train, y_train)\n",
    "\n",
    "# Generate predictions\n",
    "y_pred = rf.predict(X_test)\n",
    "\n",
    "# Get classification report\n",
    "report = classification_report(y_test, y_pred, target_names=[\"Normal\", \"Fraud\"])\n",
    "print(\"Random Forest:\\n\", report)"
   ]
  },
  {
   "cell_type": "markdown",
   "id": "310872a8",
   "metadata": {
    "papermill": {
     "duration": 0.190844,
     "end_time": "2025-03-28T05:48:18.666836",
     "exception": false,
     "start_time": "2025-03-28T05:48:18.475992",
     "status": "completed"
    },
    "tags": []
   },
   "source": [
    "### SVM"
   ]
  },
  {
   "cell_type": "code",
   "execution_count": 20,
   "id": "46b1e889",
   "metadata": {
    "execution": {
     "iopub.execute_input": "2025-03-28T05:48:19.054575Z",
     "iopub.status.busy": "2025-03-28T05:48:19.054204Z",
     "iopub.status.idle": "2025-03-28T05:50:47.367156Z",
     "shell.execute_reply": "2025-03-28T05:50:47.366033Z"
    },
    "papermill": {
     "duration": 148.692077,
     "end_time": "2025-03-28T05:50:47.552409",
     "exception": false,
     "start_time": "2025-03-28T05:48:18.860332",
     "status": "completed"
    },
    "tags": []
   },
   "outputs": [
    {
     "name": "stdout",
     "output_type": "stream",
     "text": [
      "Model: SVC\n",
      "Accuracy: 0.8763\n",
      "Precision: 0.9673\n",
      "Recall: 0.7400\n",
      "F1 Score: 0.8386\n",
      "AUC-ROC: 0.8441\n",
      "\n"
     ]
    }
   ],
   "source": [
    "# Support Vector Machine (SVM)\n",
    "svm = SVC(probability=True)\n",
    "svm.fit(X_train, y_train)\n",
    "evaluate_model(svm, X_test, y_test)"
   ]
  },
  {
   "cell_type": "code",
   "execution_count": 21,
   "id": "d2ae39c3",
   "metadata": {
    "execution": {
     "iopub.execute_input": "2025-03-28T05:50:47.991898Z",
     "iopub.status.busy": "2025-03-28T05:50:47.991551Z",
     "iopub.status.idle": "2025-03-28T05:53:11.236771Z",
     "shell.execute_reply": "2025-03-28T05:53:11.235732Z"
    },
    "papermill": {
     "duration": 143.702173,
     "end_time": "2025-03-28T05:53:11.445207",
     "exception": false,
     "start_time": "2025-03-28T05:50:47.743034",
     "status": "completed"
    },
    "tags": []
   },
   "outputs": [
    {
     "name": "stdout",
     "output_type": "stream",
     "text": [
      "SVM:\n",
      "               precision    recall  f1-score   support\n",
      "\n",
      "      Normal       0.83      0.98      0.90      3961\n",
      "       Fraud       0.97      0.74      0.84      3039\n",
      "\n",
      "    accuracy                           0.88      7000\n",
      "   macro avg       0.90      0.86      0.87      7000\n",
      "weighted avg       0.89      0.88      0.87      7000\n",
      "\n"
     ]
    }
   ],
   "source": [
    "# Train SVM\n",
    "svm = SVC(kernel='rbf', probability=True)\n",
    "svm.fit(X_train, y_train)\n",
    "\n",
    "# Generate predictions\n",
    "y_pred = svm.predict(X_test)\n",
    "\n",
    "# Get classification report\n",
    "report = classification_report(y_test, y_pred, target_names=[\"Normal\", \"Fraud\"])\n",
    "print(\"SVM:\\n\", report)"
   ]
  },
  {
   "cell_type": "markdown",
   "id": "789b5537",
   "metadata": {
    "papermill": {
     "duration": 0.191301,
     "end_time": "2025-03-28T05:53:11.829219",
     "exception": false,
     "start_time": "2025-03-28T05:53:11.637918",
     "status": "completed"
    },
    "tags": []
   },
   "source": [
    "### KNN"
   ]
  },
  {
   "cell_type": "code",
   "execution_count": 22,
   "id": "7ea9549f",
   "metadata": {
    "execution": {
     "iopub.execute_input": "2025-03-28T05:53:12.212251Z",
     "iopub.status.busy": "2025-03-28T05:53:12.211881Z",
     "iopub.status.idle": "2025-03-28T05:53:13.921148Z",
     "shell.execute_reply": "2025-03-28T05:53:13.920021Z"
    },
    "papermill": {
     "duration": 1.903812,
     "end_time": "2025-03-28T05:53:13.922860",
     "exception": false,
     "start_time": "2025-03-28T05:53:12.019048",
     "status": "completed"
    },
    "tags": []
   },
   "outputs": [
    {
     "name": "stdout",
     "output_type": "stream",
     "text": [
      "Model: KNeighborsClassifier\n",
      "Accuracy: 0.8766\n",
      "Precision: 0.8655\n",
      "Recall: 0.8473\n",
      "F1 Score: 0.8563\n",
      "AUC-ROC: 0.9440\n",
      "\n"
     ]
    }
   ],
   "source": [
    "#KNN\n",
    "knn = KNeighborsClassifier(n_neighbors=5)\n",
    "knn.fit(X_train, y_train)\n",
    "evaluate_model(knn, X_test, y_test)"
   ]
  },
  {
   "cell_type": "code",
   "execution_count": 23,
   "id": "9759b983",
   "metadata": {
    "execution": {
     "iopub.execute_input": "2025-03-28T05:53:14.342919Z",
     "iopub.status.busy": "2025-03-28T05:53:14.342606Z",
     "iopub.status.idle": "2025-03-28T05:53:15.369059Z",
     "shell.execute_reply": "2025-03-28T05:53:15.367951Z"
    },
    "papermill": {
     "duration": 1.219662,
     "end_time": "2025-03-28T05:53:15.370616",
     "exception": false,
     "start_time": "2025-03-28T05:53:14.150954",
     "status": "completed"
    },
    "tags": []
   },
   "outputs": [
    {
     "name": "stdout",
     "output_type": "stream",
     "text": [
      "KNN:\n",
      "               precision    recall  f1-score   support\n",
      "\n",
      "      Normal       0.88      0.90      0.89      3961\n",
      "       Fraud       0.87      0.85      0.86      3039\n",
      "\n",
      "    accuracy                           0.88      7000\n",
      "   macro avg       0.88      0.87      0.87      7000\n",
      "weighted avg       0.88      0.88      0.88      7000\n",
      "\n"
     ]
    }
   ],
   "source": [
    "# Train KNN\n",
    "knn = KNeighborsClassifier(n_neighbors=5)\n",
    "knn.fit(X_train, y_train)\n",
    "\n",
    "# Generate predictions\n",
    "y_pred = knn.predict(X_test)\n",
    "\n",
    "# Get classification report\n",
    "report = classification_report(y_test, y_pred, target_names=[\"Normal\", \"Fraud\"])\n",
    "print(\"KNN:\\n\", report)"
   ]
  },
  {
   "cell_type": "markdown",
   "id": "1aeee54e",
   "metadata": {
    "papermill": {
     "duration": 0.188053,
     "end_time": "2025-03-28T05:53:15.800974",
     "exception": false,
     "start_time": "2025-03-28T05:53:15.612921",
     "status": "completed"
    },
    "tags": []
   },
   "source": [
    "### XGBoost"
   ]
  },
  {
   "cell_type": "code",
   "execution_count": 24,
   "id": "bb39e307",
   "metadata": {
    "execution": {
     "iopub.execute_input": "2025-03-28T05:53:16.189285Z",
     "iopub.status.busy": "2025-03-28T05:53:16.188897Z",
     "iopub.status.idle": "2025-03-28T05:53:16.525787Z",
     "shell.execute_reply": "2025-03-28T05:53:16.524579Z"
    },
    "papermill": {
     "duration": 0.532874,
     "end_time": "2025-03-28T05:53:16.527809",
     "exception": false,
     "start_time": "2025-03-28T05:53:15.994935",
     "status": "completed"
    },
    "tags": []
   },
   "outputs": [
    {
     "name": "stdout",
     "output_type": "stream",
     "text": [
      "Model: XGBClassifier\n",
      "Accuracy: 0.9809\n",
      "Precision: 0.9702\n",
      "Recall: 0.9862\n",
      "F1 Score: 0.9781\n",
      "AUC-ROC: 0.9972\n",
      "\n"
     ]
    }
   ],
   "source": [
    "# XGBoost\n",
    "xgboost = XGBClassifier(use_label_encoder=False, eval_metric='logloss')\n",
    "xgboost.fit(X_train, y_train)\n",
    "evaluate_model(xgboost, X_test, y_test)"
   ]
  },
  {
   "cell_type": "code",
   "execution_count": 25,
   "id": "80c9c548",
   "metadata": {
    "execution": {
     "iopub.execute_input": "2025-03-28T05:53:16.914070Z",
     "iopub.status.busy": "2025-03-28T05:53:16.913702Z",
     "iopub.status.idle": "2025-03-28T05:53:17.197268Z",
     "shell.execute_reply": "2025-03-28T05:53:17.194460Z"
    },
    "papermill": {
     "duration": 0.478766,
     "end_time": "2025-03-28T05:53:17.198986",
     "exception": false,
     "start_time": "2025-03-28T05:53:16.720220",
     "status": "completed"
    },
    "tags": []
   },
   "outputs": [
    {
     "name": "stdout",
     "output_type": "stream",
     "text": [
      "XGBoost:\n",
      "               precision    recall  f1-score   support\n",
      "\n",
      "      Normal       0.99      0.98      0.98      3961\n",
      "       Fraud       0.97      0.99      0.98      3039\n",
      "\n",
      "    accuracy                           0.98      7000\n",
      "   macro avg       0.98      0.98      0.98      7000\n",
      "weighted avg       0.98      0.98      0.98      7000\n",
      "\n"
     ]
    }
   ],
   "source": [
    "# Train XGBoost\n",
    "xgb = XGBClassifier(use_label_encoder=False, eval_metric='logloss')\n",
    "xgb.fit(X_train, y_train)\n",
    "\n",
    "# Generate predictions\n",
    "y_pred = xgb.predict(X_test)\n",
    "\n",
    "# Get classification report\n",
    "report = classification_report(y_test, y_pred, target_names=[\"Normal\", \"Fraud\"])\n",
    "print(\"XGBoost:\\n\", report)"
   ]
  },
  {
   "cell_type": "markdown",
   "id": "6755e655",
   "metadata": {
    "papermill": {
     "duration": 0.192061,
     "end_time": "2025-03-28T05:53:17.575941",
     "exception": false,
     "start_time": "2025-03-28T05:53:17.383880",
     "status": "completed"
    },
    "tags": []
   },
   "source": [
    "# **Model Performance Comparision**"
   ]
  },
  {
   "cell_type": "code",
   "execution_count": 26,
   "id": "4ee9d3f7",
   "metadata": {
    "execution": {
     "iopub.execute_input": "2025-03-28T05:53:18.004110Z",
     "iopub.status.busy": "2025-03-28T05:53:18.003670Z",
     "iopub.status.idle": "2025-03-28T05:53:28.208461Z",
     "shell.execute_reply": "2025-03-28T05:53:28.207542Z"
    },
    "papermill": {
     "duration": 10.395494,
     "end_time": "2025-03-28T05:53:28.210751",
     "exception": false,
     "start_time": "2025-03-28T05:53:17.815257",
     "status": "completed"
    },
    "tags": []
   },
   "outputs": [],
   "source": [
    "from sklearn.metrics import accuracy_score, precision_score, recall_score, f1_score\n",
    "\n",
    "def evaluate_model(model, X_test, y_test):\n",
    "    y_pred = model.predict(X_test)\n",
    "    y_prob = model.predict_proba(X_test)[:, 1] if hasattr(model, \"predict_proba\") else y_pred\n",
    "\n",
    "    metrics = {\n",
    "        \"Model\": model.__class__.__name__,\n",
    "        \"Accuracy\": accuracy_score(y_test, y_pred),\n",
    "        \"Precision\": precision_score(y_test, y_pred),\n",
    "        \"Recall\": recall_score(y_test, y_pred),\n",
    "        \"F1 Score\": f1_score(y_test, y_pred),\n",
    "    }\n",
    "    return metrics\n",
    "\n",
    "models = [log_reg, dt, rf, svm, knn, xgb]\n",
    "results = [evaluate_model(model, X_test, y_test) for model in models]\n",
    "\n",
    "# Convert to DataFrame for easier analysis\n",
    "results_df = pd.DataFrame(results)"
   ]
  },
  {
   "cell_type": "code",
   "execution_count": 27,
   "id": "bbb65b39",
   "metadata": {
    "execution": {
     "iopub.execute_input": "2025-03-28T05:53:28.616346Z",
     "iopub.status.busy": "2025-03-28T05:53:28.616009Z",
     "iopub.status.idle": "2025-03-28T05:53:28.995212Z",
     "shell.execute_reply": "2025-03-28T05:53:28.994104Z"
    },
    "papermill": {
     "duration": 0.577001,
     "end_time": "2025-03-28T05:53:28.996835",
     "exception": false,
     "start_time": "2025-03-28T05:53:28.419834",
     "status": "completed"
    },
    "tags": []
   },
   "outputs": [
    {
     "data": {
      "text/plain": [
       "<Figure size 1200x600 with 0 Axes>"
      ]
     },
     "metadata": {},
     "output_type": "display_data"
    },
    {
     "data": {
      "image/png": "[encoded data removed]",
      "text/plain": [
       "<Figure size 1200x600 with 1 Axes>"
      ]
     },
     "metadata": {},
     "output_type": "display_data"
    }
   ],
   "source": [
    "def plot_metrics_bar(results_df):\n",
    "    metrics = [\"Accuracy\", \"Precision\", \"Recall\", \"F1 Score\"]\n",
    "    \n",
    "    # Set figure size\n",
    "    plt.figure(figsize=(12, 6))\n",
    "    \n",
    "    # Plot grouped bar chart\n",
    "    results_df.set_index(\"Model\")[metrics].plot(kind=\"bar\", figsize=(12, 6), colormap=\"viridis\", edgecolor=\"black\")\n",
    "\n",
    "    plt.xlabel(\"Models\")\n",
    "    plt.ylabel(\"Score\")\n",
    "    plt.title(\"Model Performance Comparison\")\n",
    "    plt.xticks(rotation=45)\n",
    "    plt.legend(title=\"Metrics\")\n",
    "    plt.grid(axis=\"y\", linestyle=\"--\", alpha=0.7)\n",
    "\n",
    "    plt.show()\n",
    "\n",
    "# Plot the results\n",
    "plot_metrics_bar(results_df)"
   ]
  }
 ],
 "metadata": {
  "kaggle": {
   "accelerator": "gpu",
   "dataSources": [
    {
     "datasetId": 817870,
     "sourceId": 1399887,
     "sourceType": "datasetVersion"
    }
   ],
   "dockerImageVersionId": 30918,
   "isGpuEnabled": true,
   "isInternetEnabled": true,
   "language": "python",
   "sourceType": "notebook"
  },
  "kernelspec": {
   "display_name": "Python 3",
   "language": "python",
   "name": "python3"
  },
  "language_info": {
   "codemirror_mode": {
    "name": "ipython",
    "version": 3
   },
   "file_extension": ".py",
   "mimetype": "text/x-python",
   "name": "python",
   "nbconvert_exporter": "python",
   "pygments_lexer": "ipython3",
   "version": "3.10.12"
  },
  "papermill": {
   "default_parameters": {},
   "duration": 583.360159,
   "end_time": "2025-03-28T05:53:31.772811",
   "environment_variables": {},
   "exception": null,
   "input_path": "__notebook__.ipynb",
   "output_path": "__notebook__.ipynb",
   "parameters": {},
   "start_time": "2025-03-28T05:43:48.412652",
   "version": "2.6.0"
  }
 },
 "nbformat": 4,
 "nbformat_minor": 5
}
